{
 "cells": [
  {
   "cell_type": "markdown",
   "metadata": {},
   "source": [
    "# What is the True Normal Human Body Temperature? \n",
    "\n",
    "#### Background\n",
    "\n",
    "The mean normal body temperature was held to be 37$^{\\circ}$C or 98.6$^{\\circ}$F for more than 120 years since it was first conceptualized and reported by Carl Wunderlich in a famous 1868 book. But, is this value statistically correct?"
   ]
  },
  {
   "cell_type": "markdown",
   "metadata": {},
   "source": [
    "<h3>Exercises</h3>\n",
    "\n",
    "<p>In this exercise, you will analyze a dataset of human body temperatures and employ the concepts of hypothesis testing, confidence intervals, and statistical significance.</p>\n",
    "\n",
    "<p>Answer the following questions <b>in this notebook below and submit to your Github account</b>.</p> \n",
    "\n",
    "<ol>\n",
    "<li>  Is the distribution of body temperatures normal? \n",
    "    <ul>\n",
    "    <li> Although this is not a requirement for the Central Limit Theorem to hold (read the introduction on Wikipedia's page about the CLT carefully: https://en.wikipedia.org/wiki/Central_limit_theorem), it gives us some peace of mind that the population may also be normally distributed if we assume that this sample is representative of the population.\n",
    "    <li> Think about the way you're going to check for the normality of the distribution. Graphical methods are usually used first, but there are also other ways: https://en.wikipedia.org/wiki/Normality_test\n",
    "    </ul>\n",
    "<li>  Is the sample size large? Are the observations independent?\n",
    "    <ul>\n",
    "    <li> Remember that this is a condition for the Central Limit Theorem, and hence the statistical tests we are using, to apply.\n",
    "    </ul>\n",
    "<li>  Is the true population mean really 98.6 degrees F?\n",
    "    <ul>\n",
    "    <li> First, try a bootstrap hypothesis test.\n",
    "    <li> Now, let's try frequentist statistical testing. Would you use a one-sample or two-sample test? Why?\n",
    "    <li> In this situation, is it appropriate to use the $t$ or $z$ statistic? \n",
    "    <li> Now try using the other test. How is the result be different? Why?\n",
    "    </ul>\n",
    "<li>  Draw a small sample of size 10 from the data and repeat both frequentist tests. \n",
    "    <ul>\n",
    "    <li> Which one is the correct one to use? \n",
    "    <li> What do you notice? What does this tell you about the difference in application of the $t$ and $z$ statistic?\n",
    "    </ul>\n",
    "<li>  At what temperature should we consider someone's temperature to be \"abnormal\"?\n",
    "    <ul>\n",
    "    <li> As in the previous example, try calculating everything using the boostrap approach, as well as the frequentist approach.\n",
    "    <li> Start by computing the margin of error and confidence interval. When calculating the confidence interval, keep in mind that you should use the appropriate formula for one draw, and not N draws.\n",
    "    </ul>\n",
    "<li>  Is there a significant difference between males and females in normal temperature?\n",
    "    <ul>\n",
    "    <li> What testing approach did you use and why?\n",
    "    <li> Write a story with your conclusion in the context of the original problem.\n",
    "    </ul>\n",
    "</ol>\n",
    "\n",
    "You can include written notes in notebook cells using Markdown: \n",
    "   - In the control panel at the top, choose Cell > Cell Type > Markdown\n",
    "   - Markdown syntax: http://nestacms.com/docs/creating-content/markdown-cheat-sheet\n",
    "\n",
    "#### Resources\n",
    "\n",
    "+ Information and data sources: http://www.amstat.org/publications/jse/datasets/normtemp.txt, http://www.amstat.org/publications/jse/jse_data_archive.htm\n",
    "+ Markdown syntax: http://nestacms.com/docs/creating-content/markdown-cheat-sheet\n",
    "\n",
    "****"
   ]
  },
  {
   "cell_type": "code",
   "execution_count": 5,
   "metadata": {},
   "outputs": [],
   "source": [
    "import pandas as pd\n",
    "import matplotlib.pyplot as plt\n",
    "\n",
    "\n",
    "df = pd.read_csv('data/human_body_temperature.csv')"
   ]
  },
  {
   "cell_type": "code",
   "execution_count": 16,
   "metadata": {},
   "outputs": [
    {
     "data": {
      "image/png": "[encoded data removed]",
      "text/plain": [
       "<matplotlib.figure.Figure at 0x1124180d0>"
      ]
     },
     "metadata": {},
     "output_type": "display_data"
    }
   ],
   "source": [
    "import seaborn as sns\n",
    "from scipy import stats\n",
    "sns.distplot(df['temperature'],kde=False, fit=stats.gamma);"
   ]
  },
  {
   "cell_type": "code",
   "execution_count": 21,
   "metadata": {},
   "outputs": [
    {
     "name": "stdout",
     "output_type": "stream",
     "text": [
      "98.2492307692\n",
      "0.730357778905\n"
     ]
    }
   ],
   "source": [
    "import numpy as np\n",
    "print(np.mean(df['temperature']))\n",
    "print(np.std(df['temperature']))"
   ]
  },
  {
   "cell_type": "code",
   "execution_count": 115,
   "metadata": {},
   "outputs": [
    {
     "data": {
      "text/plain": [
       "(array([  9.,  42., 152., 257., 223., 190.,  96.,  25.,   3.,   3.]),\n",
       " array([98.41384615, 98.45769231, 98.50153846, 98.54538462, 98.58923077,\n",
       "        98.63307692, 98.67692308, 98.72076923, 98.76461538, 98.80846154,\n",
       "        98.85230769]),\n",
       " <a list of 10 Patch objects>)"
      ]
     },
     "execution_count": 115,
     "metadata": {},
     "output_type": "execute_result"
    },
    {
     "data": {
      "image/png": "[encoded data removed]",
      "text/plain": [
       "<matplotlib.figure.Figure at 0x1a147e7390>"
      ]
     },
     "metadata": {},
     "output_type": "display_data"
    }
   ],
   "source": [
    "def bootstrap_replicate_1d(data, func):\n",
    "    return func(np.random.choice(data, size=len(data)))\n",
    "\n",
    "def draw_bs_reps(data, func, size=1):\n",
    "    \"\"\"Draw bootstrap replicates.\"\"\"\n",
    "\n",
    "    # Initialize array of replicates: bs_replicates\n",
    "    bs_replicates = np.empty(size)\n",
    "    # Generate replicates\n",
    "    for i in range(size):\n",
    "        bs_replicates[i] = bootstrap_replicate_1d(data,func)\n",
    "\n",
    "    return bs_replicates\n",
    "\n",
    "translated = df['temperature']-np.mean(df['temperature'])+98.6\n",
    "bs_diff_replicates = draw_bs_reps(translated,np.mean,1000)\n",
    "plt.hist(bs_diff_replicates)\n",
    "#val = np.sum(bs_diff_replicates == 98.6)\n",
    "#print(np.float(val)/1000)"
   ]
  },
  {
   "cell_type": "code",
   "execution_count": 44,
   "metadata": {},
   "outputs": [
    {
     "data": {
      "text/plain": [
       "0.3156"
      ]
     },
     "execution_count": 44,
     "metadata": {},
     "output_type": "execute_result"
    }
   ],
   "source": [
    "# Above With p value of 0.001, we can reject the null hypothesis\n",
    "# ztest x-Mu/Ro\n",
    "diff_mean = 98.6 - np.mean(df['temperature'])\n",
    "std = np.std(df['temperature'])\n",
    "diff_mean/std\n",
    "1-0.6844"
   ]
  },
  {
   "cell_type": "code",
   "execution_count": 121,
   "metadata": {},
   "outputs": [
    {
     "data": {
      "text/plain": [
       "((array([-2.55445479, -2.22902648, -2.0419783 , -1.90719589, -1.80015121,\n",
       "         -1.71047373, -1.63275826, -1.56381343, -1.50159038, -1.44469181,\n",
       "         -1.39212017, -1.3431372 , -1.29718048, -1.2538112 , -1.21268003,\n",
       "         -1.17350409, -1.13605091, -1.10012698, -1.06556939, -1.03223961,\n",
       "         -1.00001877, -0.96880405, -0.93850586, -0.90904562, -0.88035396,\n",
       "         -0.85236935, -0.82503685, -0.79830725, -0.77213622, -0.74648367,\n",
       "         -0.72131321, -0.69659166, -0.67228871, -0.64837651, -0.62482945,\n",
       "         -0.60162387, -0.57873784, -0.55615102, -0.53384444, -0.51180041,\n",
       "         -0.49000234, -0.46843466, -0.44708273, -0.42593273, -0.40497157,\n",
       "         -0.38418687, -0.36356684, -0.34310027, -0.32277642, -0.30258504,\n",
       "         -0.28251629, -0.2625607 , -0.24270913, -0.22295275, -0.20328303,\n",
       "         -0.18369165, -0.16417053, -0.14471177, -0.12530767, -0.10595063,\n",
       "         -0.08663321, -0.06734807, -0.04808795, -0.02884566, -0.00961403,\n",
       "          0.00961403,  0.02884566,  0.04808795,  0.06734807,  0.08663321,\n",
       "          0.10595063,  0.12530767,  0.14471177,  0.16417053,  0.18369165,\n",
       "          0.20328303,  0.22295275,  0.24270913,  0.2625607 ,  0.28251629,\n",
       "          0.30258504,  0.32277642,  0.34310027,  0.36356684,  0.38418687,\n",
       "          0.40497157,  0.42593273,  0.44708273,  0.46843466,  0.49000234,\n",
       "          0.51180041,  0.53384444,  0.55615102,  0.57873784,  0.60162387,\n",
       "          0.62482945,  0.64837651,  0.67228871,  0.69659166,  0.72131321,\n",
       "          0.74648367,  0.77213622,  0.79830725,  0.82503685,  0.85236935,\n",
       "          0.88035396,  0.90904562,  0.93850586,  0.96880405,  1.00001877,\n",
       "          1.03223961,  1.06556939,  1.10012698,  1.13605091,  1.17350409,\n",
       "          1.21268003,  1.2538112 ,  1.29718048,  1.3431372 ,  1.39212017,\n",
       "          1.44469181,  1.50159038,  1.56381343,  1.63275826,  1.71047373,\n",
       "          1.80015121,  1.90719589,  2.0419783 ,  2.22902648,  2.55445479]),\n",
       "  array([ 96.3,  96.4,  96.7,  96.7,  96.8,  96.9,  97. ,  97.1,  97.1,\n",
       "          97.1,  97.2,  97.2,  97.2,  97.3,  97.4,  97.4,  97.4,  97.4,\n",
       "          97.4,  97.5,  97.5,  97.6,  97.6,  97.6,  97.6,  97.7,  97.7,\n",
       "          97.7,  97.8,  97.8,  97.8,  97.8,  97.8,  97.8,  97.8,  97.9,\n",
       "          97.9,  97.9,  97.9,  97.9,  98. ,  98. ,  98. ,  98. ,  98. ,\n",
       "          98. ,  98. ,  98. ,  98. ,  98. ,  98. ,  98.1,  98.1,  98.1,\n",
       "          98.2,  98.2,  98.2,  98.2,  98.2,  98.2,  98.2,  98.2,  98.2,\n",
       "          98.2,  98.3,  98.3,  98.3,  98.3,  98.3,  98.4,  98.4,  98.4,\n",
       "          98.4,  98.4,  98.4,  98.4,  98.4,  98.4,  98.5,  98.5,  98.5,\n",
       "          98.6,  98.6,  98.6,  98.6,  98.6,  98.6,  98.6,  98.6,  98.6,\n",
       "          98.6,  98.7,  98.7,  98.7,  98.7,  98.7,  98.7,  98.7,  98.7,\n",
       "          98.8,  98.8,  98.8,  98.8,  98.8,  98.8,  98.8,  98.8,  98.8,\n",
       "          98.8,  98.9,  98.9,  99. ,  99. ,  99. ,  99. ,  99. ,  99.1,\n",
       "          99.1,  99.1,  99.2,  99.2,  99.2,  99.3,  99.3,  99.4,  99.4,\n",
       "          99.5,  99.9, 100. , 100.8])),\n",
       " (0.7360312365506642, 98.24923076923078, 0.9915720036585683))"
      ]
     },
     "execution_count": 121,
     "metadata": {},
     "output_type": "execute_result"
    },
    {
     "data": {
      "image/png": "[encoded data removed]",
      "text/plain": [
       "<matplotlib.figure.Figure at 0x1a144029d0>"
      ]
     },
     "metadata": {},
     "output_type": "display_data"
    }
   ],
   "source": [
    "from scipy import stats\n",
    "stats.probplot(df['temperature'], plot=plt)"
   ]
  }
 ],
 "metadata": {
  "kernelspec": {
   "display_name": "Python 2",
   "language": "python",
   "name": "python2"
  },
  "language_info": {
   "codemirror_mode": {
    "name": "ipython",
    "version": 2
   },
   "file_extension": ".py",
   "mimetype": "text/x-python",
   "name": "python",
   "nbconvert_exporter": "python",
   "pygments_lexer": "ipython2",
   "version": "2.7.14"
  }
 },
 "nbformat": 4,
 "nbformat_minor": 1
}
