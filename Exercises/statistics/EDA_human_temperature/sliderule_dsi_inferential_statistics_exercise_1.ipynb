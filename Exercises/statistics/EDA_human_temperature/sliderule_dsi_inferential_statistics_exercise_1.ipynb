{
 "cells": [
  {
   "cell_type": "markdown",
   "metadata": {},
   "source": [
    "# What is the True Normal Human Body Temperature? \n",
    "\n",
    "#### Background\n",
    "\n",
    "The mean normal body temperature was held to be 37$^{\\circ}$C or 98.6$^{\\circ}$F for more than 120 years since it was first conceptualized and reported by Carl Wunderlich in a famous 1868 book. But, is this value statistically correct?"
   ]
  },
  {
   "cell_type": "markdown",
   "metadata": {},
   "source": [
    "<h3>Exercises</h3>\n",
    "\n",
    "<p>In this exercise, you will analyze a dataset of human body temperatures and employ the concepts of hypothesis testing, confidence intervals, and statistical significance.</p>\n",
    "\n",
    "<p>Answer the following questions <b>in this notebook below and submit to your Github account</b>.</p> \n",
    "\n",
    "<ol>\n",
    "<li>  Is the distribution of body temperatures normal? \n",
    "    <ul>\n",
    "    <li> Although this is not a requirement for the Central Limit Theorem to hold (read the introduction on Wikipedia's page about the CLT carefully: https://en.wikipedia.org/wiki/Central_limit_theorem), it gives us some peace of mind that the population may also be normally distributed if we assume that this sample is representative of the population.\n",
    "    <li> Think about the way you're going to check for the normality of the distribution. Graphical methods are usually used first, but there are also other ways: https://en.wikipedia.org/wiki/Normality_test\n",
    "    </ul>\n",
    "<li>  Is the sample size large? Are the observations independent?\n",
    "    <ul>\n",
    "    <li> Remember that this is a condition for the Central Limit Theorem, and hence the statistical tests we are using, to apply.\n",
    "    </ul>\n",
    "<li>  Is the true population mean really 98.6 degrees F?\n",
    "    <ul>\n",
    "    <li> First, try a bootstrap hypothesis test.\n",
    "    <li> Now, let's try frequentist statistical testing. Would you use a one-sample or two-sample test? Why?\n",
    "    <li> In this situation, is it appropriate to use the $t$ or $z$ statistic? \n",
    "    <li> Now try using the other test. How is the result be different? Why?\n",
    "    </ul>\n",
    "<li>  Draw a small sample of size 10 from the data and repeat both frequentist tests. \n",
    "    <ul>\n",
    "    <li> Which one is the correct one to use? \n",
    "    <li> What do you notice? What does this tell you about the difference in application of the $t$ and $z$ statistic?\n",
    "    </ul>\n",
    "<li>  At what temperature should we consider someone's temperature to be \"abnormal\"?\n",
    "    <ul>\n",
    "    <li> As in the previous example, try calculating everything using the boostrap approach, as well as the frequentist approach.\n",
    "    <li> Start by computing the margin of error and confidence interval. When calculating the confidence interval, keep in mind that you should use the appropriate formula for one draw, and not N draws.\n",
    "    </ul>\n",
    "<li>  Is there a significant difference between males and females in normal temperature?\n",
    "    <ul>\n",
    "    <li> What testing approach did you use and why?\n",
    "    <li> Write a story with your conclusion in the context of the original problem.\n",
    "    </ul>\n",
    "</ol>\n",
    "\n",
    "You can include written notes in notebook cells using Markdown: \n",
    "   - In the control panel at the top, choose Cell > Cell Type > Markdown\n",
    "   - Markdown syntax: http://nestacms.com/docs/creating-content/markdown-cheat-sheet\n",
    "\n",
    "#### Resources\n",
    "\n",
    "+ Information and data sources: http://www.amstat.org/publications/jse/datasets/normtemp.txt, http://www.amstat.org/publications/jse/jse_data_archive.htm\n",
    "+ Markdown syntax: http://nestacms.com/docs/creating-content/markdown-cheat-sheet\n",
    "\n",
    "****"
   ]
  },
  {
   "cell_type": "code",
   "execution_count": 1,
   "metadata": {},
   "outputs": [],
   "source": [
    "import pandas as pd\n",
    "import matplotlib.pyplot as plt\n",
    "import seaborn as sns\n",
    "from scipy import stats\n",
    "import numpy as np\n",
    "import statsmodels.stats.weightstats as wstats\n",
    "\n",
    "df = pd.read_csv('data/human_body_temperature.csv')\n"
   ]
  },
  {
   "cell_type": "markdown",
   "metadata": {},
   "source": [
    "<div class=\"span5 alert alert-success\"><h1>CENTRAL LIMIT THEOREM</h1>\n",
    "<h3>For independent random variables\n",
    "<p>\n",
    "<ul>\n",
    "    <li>\n",
    "<b>\n",
    "   For any given Distribution, sampling distribution of sample means will be normally distributed (as n gets larger)\n",
    "</b>\n",
    "</li><br>\n",
    "<li>\n",
    "<b>\n",
    "   Mean of the sampling distribution of sample means will be equal to mean of original distribution\n",
    "</b>\n",
    "</li>\n",
    "    <br>\n",
    "    <li>\n",
    "<b>\n",
    "   Standard Deviation of sampling distribution of sample mean will be equal to <br>\n",
    "    (Std. Deviation of original distribution)/ SQRT(Sample Size)\n",
    "</b>\n",
    "</li>\n",
    "    <br>\n",
    "</ul>\n",
    "</p></h3></div>"
   ]
  },
  {
   "cell_type": "markdown",
   "metadata": {},
   "source": [
    "<div class=\"span5 alert alert-success\"><h1>Q1: Is the distribution of body temperatures normal?</h1></div>"
   ]
  },
  {
   "cell_type": "code",
   "execution_count": 2,
   "metadata": {},
   "outputs": [
    {
     "data": {
      "image/png": "[encoded data removed]",
      "text/plain": [
       "<matplotlib.figure.Figure at 0x10f5b59d0>"
      ]
     },
     "metadata": {},
     "output_type": "display_data"
    }
   ],
   "source": [
    "sns.distplot(df['temperature'],kde=False, fit=stats.gamma);\n",
    "plt.show()\n"
   ]
  },
  {
   "cell_type": "code",
   "execution_count": 3,
   "metadata": {},
   "outputs": [
    {
     "data": {
      "image/png": "[encoded data removed]",
      "text/plain": [
       "<matplotlib.figure.Figure at 0x115409b90>"
      ]
     },
     "metadata": {},
     "output_type": "display_data"
    }
   ],
   "source": [
    "from statsmodels.graphics.gofplots import qqplot\n",
    "qqplot(np.array(df['temperature']))\n",
    "plt.show()\n"
   ]
  },
  {
   "cell_type": "code",
   "execution_count": 4,
   "metadata": {},
   "outputs": [],
   "source": [
    "from scipy import stats\n",
    "# Null Hypothesis is the distribution of temeratures is Normal distribution\n",
    "def normalityTest(temperatures):\n",
    "    k2, p = stats.normaltest(temperatures)\n",
    "\n",
    "    alpha = 1e-3\n",
    "    print(\"p = {:g}\".format(p))\n",
    "    \n",
    "    if p < alpha:  # null hypothesis: x comes from a normal distribution\n",
    "        print(\"The null hypothesis can be rejected - distribution is Not Normal\")\n",
    "    else:\n",
    "        print(\"The null hypothesis cannot be rejected - distribution is Normal\")\n",
    "        "
   ]
  },
  {
   "cell_type": "code",
   "execution_count": 5,
   "metadata": {},
   "outputs": [
    {
     "name": "stdout",
     "output_type": "stream",
     "text": [
      "p = 0.258748\n",
      "The null hypothesis cannot be rejected - distribution is Normal\n"
     ]
    }
   ],
   "source": [
    "normalityTest(df['temperature'])\n"
   ]
  },
  {
   "cell_type": "markdown",
   "metadata": {},
   "source": [
    "<div class=\"span5 alert alert-success\"><ul style=\"color:blue;font-size:1.5em;\">\n",
    "<li><b>Based on the Histograms, QQ Plot and other tests we can conclude, the distribution is seemingly Normal </b>\n",
    "    \n",
    "    </ul></div>"
   ]
  },
  {
   "cell_type": "markdown",
   "metadata": {},
   "source": [
    "<div class=\"span5 alert alert-success\"><h1>Q2 : Is the sample size large? Are the observations independent?</h1><p>\n",
    "<ul style=\"color:blue;font-size:1.5em;\">\n",
    "<li>\n",
    "<b>\n",
    "    Sample Size for this Exercise is large , sample size greater than 30 is considered large.\n",
    "</b>\n",
    "</li>\n",
    "    <br>\n",
    "    <li>\n",
    "<b>\n",
    "    Observations are independent\n",
    "</b>\n",
    "</li>\n",
    "    <br>\n",
    "<li>\n",
    "<b>One-sample test is applicable in this case. A two-sample t-test is applied to compare whether the average difference between two groups is really significant or if it is just a random chance.</b>\n",
    "</li>\n",
    "</ul>\n",
    "</p></div>"
   ]
  },
  {
   "cell_type": "markdown",
   "metadata": {},
   "source": [
    "<div class=\"span5 alert alert-success\"><h1>Q3 : Is the true population mean really 98.6 degrees F?</h1></div>"
   ]
  },
  {
   "cell_type": "markdown",
   "metadata": {},
   "source": [
    "<div><h2>\n",
    "Hypothesisis \n",
    "<ul>\n",
    "<li>Ho = mean temperature is 98.6\n",
    "<li>Ha = mean temperature is not equal to 98.6 , may be greater than or less than 98.6\n",
    "</ul>\n",
    "    </h2>\n",
    "</div>"
   ]
  },
  {
   "cell_type": "code",
   "execution_count": 6,
   "metadata": {},
   "outputs": [],
   "source": [
    "#Hypothesisis Test \n",
    "#h0 = mean temperature is 98.6\n",
    "#ha = mean temperature is not equal to 98.6 , may be greater than or less than 98.6\n",
    "\n",
    "def bootstrap_replicate_1d(data, func):\n",
    "    return func(np.random.choice(data, size=len(data)))\n",
    "\n",
    "def draw_bs_reps(data, func, size=1):\n",
    "    \"\"\"Draw bootstrap replicates.\"\"\"\n",
    "\n",
    "    # Initialize array of replicates: bs_replicates\n",
    "    bs_replicates = np.empty(size)\n",
    "    # Generate replicates\n",
    "    for i in range(size):\n",
    "        bs_replicates[i] = bootstrap_replicate_1d(data,func)\n",
    "\n",
    "    return bs_replicates"
   ]
  },
  {
   "cell_type": "code",
   "execution_count": 7,
   "metadata": {},
   "outputs": [
    {
     "data": {
      "image/png": "[encoded data removed]",
      "text/plain": [
       "<matplotlib.figure.Figure at 0x115492310>"
      ]
     },
     "metadata": {},
     "output_type": "display_data"
    },
    {
     "name": "stdout",
     "output_type": "stream",
     "text": [
      "p for hypothesis tests = 0.002\n",
      "The null hypothesis can be rejected - mean temerature is not 98.6\n"
     ]
    }
   ],
   "source": [
    "temperatures = df['temperature']\n",
    "translated = temperatures-np.mean(temperatures)+98.6\n",
    "bs_diff_replicates = draw_bs_reps(translated,np.mean,1000)\n",
    "plt.hist(bs_diff_replicates)\n",
    "plt.show()\n",
    "val = np.sum(bs_diff_replicates == 98.6)\n",
    "p = np.float(val)/1000\n",
    "print(\"p for hypothesis tests = {:g}\".format(p))\n",
    "alpha = 0.05\n",
    "if p < alpha: \n",
    "    print(\"The null hypothesis can be rejected - mean temerature is not 98.6\")\n",
    "else:\n",
    "    print(\"The null hypothesis cannot be rejected - mean temerature is 98.6\")"
   ]
  },
  {
   "cell_type": "code",
   "execution_count": 8,
   "metadata": {},
   "outputs": [],
   "source": [
    "# t-test X-Mu/(s/Sqrt(n))\n",
    "# z-test X-Mu/(s/sqrt(n)) or X-Mu/row\n",
    "def frequentisttest(temperature):\n",
    "    diff_mean = 98.6 - np.mean(temperature)\n",
    "    s = np.std(temperature)\n",
    "    n = len(temperature)\n",
    "    sqrt_n = np.sqrt(n)\n",
    "    val = diff_mean/(s/sqrt_n)\n",
    "    t_val = stats.t.sf(np.abs(val), n-1)*2 # t score , 2 tailed as the alternative hypothesis is a \"Not equals to\"\n",
    "    z_val = stats.norm.sf(abs(val))*2 # z score\n",
    "    print(\"p value for t test = {:g}\".format(t_val))\n",
    "    print(\"p value for z test = {:g}\".format(z_val))"
   ]
  },
  {
   "cell_type": "code",
   "execution_count": 9,
   "metadata": {},
   "outputs": [
    {
     "name": "stdout",
     "output_type": "stream",
     "text": [
      "p value for t test = 2.18875e-07\n",
      "p value for z test = 4.35232e-08\n"
     ]
    }
   ],
   "source": [
    "# calculated t-test and z-test\n",
    "frequentisttest(df['temperature'])\n"
   ]
  },
  {
   "cell_type": "code",
   "execution_count": 10,
   "metadata": {},
   "outputs": [
    {
     "name": "stdout",
     "output_type": "stream",
     "text": [
      "p value for t test = 2.41063e-07\n",
      "p value for z test = 4.90216e-08\n"
     ]
    }
   ],
   "source": [
    "# library provided - t-test\n",
    "z,p = stats.ttest_1samp(df['temperature'],98.6)\n",
    "print(\"p value for t test = {:g}\".format(p))\n",
    "# library provided -  z-test\n",
    "z,p = wstats.ztest(df['temperature'],value=98.6,usevar='pooled',ddof=1.0)\n",
    "print(\"p value for z test = {:g}\".format(p))"
   ]
  },
  {
   "cell_type": "markdown",
   "metadata": {},
   "source": [
    "<div class=\"span5 alert alert-success\"><p><b>\n",
    "    <ul style=\"color:blue;font-size:1.5em;\">\n",
    "    <li>As sample size is large z-test is appropriate</li>\n",
    "    <li>The null hypothesis can be rejected as p value is less than alpha (0.05) (i.e mean temerature is not 98.6)</li>\n",
    "        <li><b>The P values are higher for t-test , p values differ as t and z distributions are different</b></li>\n",
    "    </ul></b></p></div>"
   ]
  },
  {
   "cell_type": "markdown",
   "metadata": {},
   "source": [
    "<div class=\"span5 alert alert-success\"><h1>Q4 : Draw a small sample of size 10 from the data and repeat both frequentist tests.</h1></div>"
   ]
  },
  {
   "cell_type": "code",
   "execution_count": 11,
   "metadata": {},
   "outputs": [
    {
     "name": "stdout",
     "output_type": "stream",
     "text": [
      "p value for t-test = 0.204099\n",
      "p value for z-test = 0.170904\n"
     ]
    }
   ],
   "source": [
    "temperatures = np.random.choice(df['temperature'], size = 10)\n",
    "# python t-test\n",
    "t,p1 = stats.ttest_1samp(temperatures,98.6)\n",
    "print(\"p value for t-test = {:g}\".format(p1))\n",
    "# python z-test\n",
    "z,p2 = wstats.ztest(temperatures,value=98.6,usevar='pooled',ddof=1.0)\n",
    "print(\"p value for z-test = {:g}\".format(p2))\n"
   ]
  },
  {
   "cell_type": "code",
   "execution_count": 12,
   "metadata": {},
   "outputs": [
    {
     "name": "stdout",
     "output_type": "stream",
     "text": [
      "p value for t test = 0.202382\n",
      "p value for z test = 0.169124\n"
     ]
    }
   ],
   "source": [
    "temperatures = np.random.choice(df['temperature'], size = 10)\n",
    "frequentisttest(temperatures)"
   ]
  },
  {
   "cell_type": "markdown",
   "metadata": {},
   "source": [
    "<div class=\"span5 alert alert-success\"><ul style=\"color:blue;font-size:1.5em;\">\n",
    "    <li><b>As the sample size is small (i.e 10), t-test will be appropriate</b></li>\n",
    "    <li><b>The Hypothesis cannot be rejected as the p value is greater than 0.05</b></li>\n",
    "<li><b>Increasing the sample size will tend to result in a smaller P-value only if the null hypothesis is false.</b></li>\n",
    "    <li><b>The P values are higher for t-test , p values differ as t and z distributions are different</b></li>\n",
    "</ul></div>"
   ]
  },
  {
   "cell_type": "markdown",
   "metadata": {},
   "source": [
    "<div class=\"span5 alert alert-success\"><h1>Q5 : At what temperature should we consider someone's temperature to be \"abnormal\"?</h1></div>"
   ]
  },
  {
   "cell_type": "code",
   "execution_count": 13,
   "metadata": {},
   "outputs": [
    {
     "data": {
      "text/plain": [
       "array([98.12692308, 98.37234615])"
      ]
     },
     "execution_count": 13,
     "metadata": {},
     "output_type": "execute_result"
    }
   ],
   "source": [
    "# bootstrap approach\n",
    "# 95 % confidence level & 2 tailed test\n",
    "temperatures = df['temperature']\n",
    "bs_diff_replicates = draw_bs_reps(temperatures,np.mean,1000)\n",
    "np.percentile(bs_diff_replicates, [2.5, 97.5])\n"
   ]
  },
  {
   "cell_type": "code",
   "execution_count": 14,
   "metadata": {},
   "outputs": [
    {
     "name": "stdout",
     "output_type": "stream",
     "text": [
      "c.i value for z-test = [98.12368211145665, 98.37477942700491]\n"
     ]
    }
   ],
   "source": [
    "# calculation approach\n",
    "# 95 % confidence level & 2 tailed test\n",
    "z_criticalvalue = stats.norm.ppf(0.975)\n",
    "#t_criticalvalue = stats.t.ppf(0.975,len(df['temperature'])-1)\n",
    "# standard error = std/sqrt(sample size)\n",
    "se = np.std(df['temperature'])/np.sqrt(len(df['temperature']))\n",
    "\n",
    "me = z_criticalvalue * se\n",
    "\n",
    "# confidence interval for 95%\n",
    "print(\"c.i value for z-test = {:s}\".format([np.mean(df['temperature'])-me,np.mean(df['temperature'])+me]))\n"
   ]
  },
  {
   "cell_type": "markdown",
   "metadata": {},
   "source": [
    "<div class=\"span5 alert alert-success\"><ul style=\"color:blue;font-size:1.5em;\">\n",
    "<li><b>Temperatures within confidence interval i.e.[98.12, 98.37] are considered normal</b></li>\n",
    "</ul></div>"
   ]
  },
  {
   "cell_type": "markdown",
   "metadata": {},
   "source": [
    "<div class=\"span5 alert alert-success\"><h1>Q6 : Is there a significant difference between males and females in normal temperature?</h2></div>"
   ]
  },
  {
   "cell_type": "markdown",
   "metadata": {},
   "source": [
    "<div><h2>\n",
    "Hypothesisis \n",
    "<ul>\n",
    "<li>Ho = There is no significant difference between male and female temperatures \n",
    "<li>Ha = There is a significant difference \n",
    "</ul>\n",
    "    </h2>\n",
    "</div>"
   ]
  },
  {
   "cell_type": "code",
   "execution_count": 15,
   "metadata": {},
   "outputs": [
    {
     "name": "stdout",
     "output_type": "stream",
     "text": [
      "The null hypothesis can be rejected\n"
     ]
    }
   ],
   "source": [
    "# Hypothesis approach\n",
    "male_df = df[df['gender']=='M']\n",
    "female_df = df[df['gender']=='F']\n",
    "\n",
    "combined_mean = np.mean(df['temperature'])\n",
    "\n",
    "male_df_shifted = male_df['temperature'] - np.mean(male_df['temperature'])+combined_mean\n",
    "\n",
    "female_df_shifted = female_df['temperature'] - np.mean(female_df['temperature'])+combined_mean\n",
    "\n",
    "# Get bootstrap replicates of shifted data sets\n",
    "bs_replicates_male = draw_bs_reps(male_df_shifted,np.mean,10000)\n",
    "bs_replicates_female = draw_bs_reps(female_df_shifted,np.mean,10000)\n",
    "\n",
    "# Compute replicates of difference of means: bs_diff_replicates\n",
    "bs_diff_replicates = bs_replicates_female-bs_replicates_male\n",
    "\n",
    "# Compute the p-value\n",
    "mean_diff = np.abs(np.mean(male_df['temperature']) - np.mean(female_df['temperature']))\n",
    "#print('mean diff : ',mean_diff,', bs_diff_replicates : ',bs_diff_replicates)\n",
    "p = np.sum(bs_diff_replicates > mean_diff)*1.0 / len(bs_diff_replicates)\n",
    "\n",
    "# Print p-value\n",
    "alpha = 0.05\n",
    "if p < alpha: \n",
    "    print(\"The null hypothesis can be rejected\")\n",
    "else:\n",
    "    print(\"The null hypothesis cannot be rejected\")\n",
    "    \n",
    "    "
   ]
  },
  {
   "cell_type": "code",
   "execution_count": 16,
   "metadata": {},
   "outputs": [
    {
     "name": "stdout",
     "output_type": "stream",
     "text": [
      "The null hypothesis can be rejected with z test\n"
     ]
    }
   ],
   "source": [
    "#Frequentist approach\n",
    "male_var = np.var(male_df['temperature'])\n",
    "\n",
    "female_var = np.var(female_df['temperature'])\n",
    "\n",
    "denominator = np.sqrt(male_var/len(male_df['temperature']) + female_var/len(female_df['temperature']))\n",
    "n = len(df['temperature'])\n",
    "val = mean_diff/denominator\n",
    "#t_val = stats.t.sf(np.abs(val), n-1)*2 \n",
    "z_val = stats.norm.sf(abs(val))*2 # 2 tailed as the alternative hypothesis is a \"Not equals to\"\n",
    "\n",
    "alpha = 0.05\n",
    "    \n",
    "if z_val < alpha: \n",
    "    print(\"The null hypothesis can be rejected with z test\")\n",
    "else:\n",
    "    print(\"The null hypothesis cannot be rejected with z test\")\n"
   ]
  },
  {
   "cell_type": "markdown",
   "metadata": {},
   "source": [
    "<div class=\"span5 alert alert-success\"><ul style=\"color:blue;font-size:1.5em;\">\n",
    "    <li><b>Null Hypothesis can be rejected as there is a significant difference between male and female temperatures</b>\n",
    "        <b></div>"
   ]
  },
  {
   "cell_type": "markdown",
   "metadata": {},
   "source": [
    "<div class=\"span5 alert alert-success\"><h1>Conclusion</h1>\n",
    "<ul style=\"color:blue;font-size:1.5em;\">\n",
    "    <li><b>The general understanding as stated in the problem that 98.6 to be mean temerpature of Human body is proved to be wrong with our tests</b>\n",
    "    <li><b>Normal Temerature lies between 98.12 and 98.37 degrees F</b>\n",
    "        <li><b>Tests results vary with sample size</b>\n",
    "    <li><b>Body Temperatures of male and female are significantly different</div>\n",
    "            "
   ]
  }
 ],
 "metadata": {
  "kernelspec": {
   "display_name": "Python 2",
   "language": "python",
   "name": "python2"
  },
  "language_info": {
   "codemirror_mode": {
    "name": "ipython",
    "version": 2
   },
   "file_extension": ".py",
   "mimetype": "text/x-python",
   "name": "python",
   "nbconvert_exporter": "python",
   "pygments_lexer": "ipython2",
   "version": "2.7.14"
  }
 },
 "nbformat": 4,
 "nbformat_minor": 1
}
